{
 "cells": [
  {
   "cell_type": "code",
   "execution_count": 30,
   "metadata": {},
   "outputs": [],
   "source": [
    "import cv2\n",
    "import numpy as np\n",
    "from matplotlib import pyplot as plt\n",
    "import math\n",
    "from scipy.spatial import distance\n",
    "\n",
    "\n",
    "# Number of images (we have 4 in this example)\n",
    "N = 4\n",
    "\n",
    "# Read image\n",
    "im_dictionary = {}\n",
    "\n",
    "# The names of the example images are iterable\n",
    "for i in range(0,N):\n",
    "    im_dictionary[\"Image{0}\".format(i)] = cv2.imread(\"Example_Pictures/IMG_\"+str(8105+i)+\".jpg\")"
   ]
  },
  {
   "cell_type": "code",
   "execution_count": 31,
   "metadata": {},
   "outputs": [],
   "source": [
    "# Because the camera does not stand still, we want fixed reference points to find\n",
    "# out if the laser point has moved\n",
    "# We are using the white dots in the background for this\n",
    "\n",
    "# The color range we want the blobs to be in\n",
    "lower = (70,70,70)\n",
    "upper = (130,130,2130)\n",
    "\n",
    "mask_dictionary = {}\n",
    "for i in range(0,N):\n",
    "    mask_dictionary[\"Mask{0}\".format(i)] =  cv2.dilate(cv2.inRange(im_dictionary[\"Image{0}\".format(i)], lower, upper), None, iterations=1)\n",
    "\n",
    "\n",
    "# Setup SimpleBlobDetector parameters\n",
    "params = cv2.SimpleBlobDetector_Params()\n",
    "\n",
    "\n",
    "# Change thresholds\n",
    "params.minThreshold = 0;\n",
    "params.maxThreshold = 256;\n",
    "\n",
    "# Only keep blobs in this size range\n",
    "params.filterByArea = True\n",
    "params.minArea = 3500\n",
    "params.maxArea = 40000\n",
    "\n",
    "\n",
    "# Detect blobs\n",
    "blob = cv2.SimpleBlobDetector_create(params)\n",
    "\n",
    "# save keypoints\n",
    "keypoint_dictionary = {}\n",
    "for i in range(0,N):\n",
    "    keypoint_dictionary[\"Keypoints{0}\".format(i)] = blob.detect(255-mask_dictionary[\"Mask{0}\".format(i)])"
   ]
  },
  {
   "cell_type": "code",
   "execution_count": 32,
   "metadata": {
    "scrolled": false
   },
   "outputs": [],
   "source": [
    "background_coordinates_dictionary = {}\n",
    "for i in range(0,N):\n",
    "    background_coordinates_dictionary[\"Coordinates{0}\".format(i)] =  [keypoint.pt for keypoint in keypoint_dictionary[\"Keypoints{0}\".format(i)]]"
   ]
  },
  {
   "cell_type": "code",
   "execution_count": 33,
   "metadata": {},
   "outputs": [],
   "source": [
    "# Laserpoint detection\n",
    "lower = (200,110,160)\n",
    "upper = (255,255,255)\n",
    "\n",
    "mask_dictionary = {}\n",
    "for i in range(0,N):\n",
    "    mask_dictionary[\"Mask{0}\".format(i)] = cv2.dilate(cv2.inRange(im_dictionary[\"Image{0}\".format(i)], lower, upper), None, iterations=1)\n",
    "\n",
    "# Setup SimpleBlobDetector parameters\n",
    "params = cv2.SimpleBlobDetector_Params()\n",
    "\n",
    "\n",
    "# Change thresholds\n",
    "params.minThreshold = 0;\n",
    "params.maxThreshold = 256;\n",
    "\n",
    "\n",
    "params.filterByArea = True\n",
    "params.minArea = 600\n",
    "params.maxArea = 40000\n",
    "\n",
    "\n",
    "params.filterByConvexity = True\n",
    "params.minConvexity = 0.5\n",
    "\n",
    "\n",
    "# Detect blobs\n",
    "blob = cv2.SimpleBlobDetector_create(params)\n",
    "\n",
    "\n",
    "\n",
    "laserpoint_dictionary = {}\n",
    "for i in range(0,N):\n",
    "    laserpoint_dictionary[\"Keypoints{0}\".format(i)] = blob.detect(255-mask_dictionary[\"Mask{0}\".format(i)])\n"
   ]
  },
  {
   "cell_type": "code",
   "execution_count": 38,
   "metadata": {},
   "outputs": [],
   "source": [
    "laser_coordinates_dictionary = {}\n",
    "for i in range(0,N):\n",
    "    laser_coordinates_dictionary[\"Coordinates{0}\".format(i)] =  [keypoint.pt for keypoint in laserpoint_dictionary[\"Keypoints{0}\".format(i)]]"
   ]
  },
  {
   "cell_type": "code",
   "execution_count": 39,
   "metadata": {},
   "outputs": [],
   "source": [
    "# We want to compare the distance of the laser point to just one point\n",
    "reference_point_dictionary = {}\n",
    "\n",
    "for i in range(0,N):\n",
    "    reference_point_dictionary[\"Reference_Point{0}\".format(i)] = min(background_coordinates_dictionary[\"Coordinates{0}\".format(i)], key=lambda coordinate: (laser_coordinates_dictionary[\"Coordinates0\"][0][0]-coordinate[0])**2+(laser_coordinates_dictionary[\"Coordinates0\"][0][1]-coordinate[1])**2)"
   ]
  },
  {
   "cell_type": "code",
   "execution_count": 40,
   "metadata": {},
   "outputs": [],
   "source": [
    "distance_dictionary = {}\n",
    "\n",
    "for i in range(0,N):\n",
    "    distance_dictionary[\"Distances{0}\".format(i)] = [laser_coordinates_dictionary[\"Coordinates{0}\".format(i)][0][0]-reference_point_dictionary[\"Reference_Point{0}\".format(i)][0], laser_coordinates_dictionary[\"Coordinates{0}\".format(i)][0][1]-reference_point_dictionary[\"Reference_Point{0}\".format(i)][1]]"
   ]
  },
  {
   "cell_type": "code",
   "execution_count": 41,
   "metadata": {},
   "outputs": [
    {
     "name": "stdout",
     "output_type": "stream",
     "text": [
      "Images have a size of 3456 x 2304\n"
     ]
    }
   ],
   "source": [
    "width = len(mask_dictionary[\"Mask0\"][0])\n",
    "height = len(mask_dictionary[\"Mask0\"])\n",
    "\n",
    "print(\"Images have a size of \"+str(width)+\" x \"+str(height))"
   ]
  },
  {
   "cell_type": "code",
   "execution_count": 42,
   "metadata": {},
   "outputs": [],
   "source": [
    "# We take the first image as reference image\n",
    "reference_image_distance = distance_dictionary[\"Distances0\"]\n",
    "\n",
    "# This is how the laserpoint has moved\n",
    "final_dictionary = {}\n",
    "\n",
    "for i in range(0,N):\n",
    "    final_dictionary[\"Movement{0}\".format(i)] =  distance.euclidean(np.array(distance_dictionary[\"Distances{0}\".format(i)]),np.array(reference_image_distance))"
   ]
  },
  {
   "cell_type": "code",
   "execution_count": 43,
   "metadata": {},
   "outputs": [
    {
     "data": {
      "text/plain": [
       "'The distance between two background points is 18mm.'"
      ]
     },
     "execution_count": 43,
     "metadata": {},
     "output_type": "execute_result"
    }
   ],
   "source": [
    "\"The distance between two background points is 18mm.\""
   ]
  },
  {
   "cell_type": "code",
   "execution_count": 46,
   "metadata": {},
   "outputs": [
    {
     "data": {
      "text/plain": [
       "'The distance between two background points is 281.2403582409454 pixels on our image'"
      ]
     },
     "execution_count": 46,
     "metadata": {},
     "output_type": "execute_result"
    }
   ],
   "source": [
    "point_list = background_coordinates_dictionary['Coordinates0']\n",
    "\n",
    "reference_point = point_list[15]\n",
    "# We delete the 15th point out of our list of white points to get the closest point to our reference point\n",
    "del point_list[15]\n",
    "\n",
    "closest_point = min(point_list, key=lambda coordinate: (reference_point[0]-coordinate[0])**2+(reference_point[1]-coordinate[1])**2)\n",
    "pixel_distance = np.linalg.norm(closest_point)-np.linalg.norm(reference_point)\n",
    "\"The distance between two background points is \"+str(pixel_distance)+\" pixels on our image\""
   ]
  },
  {
   "cell_type": "code",
   "execution_count": 47,
   "metadata": {},
   "outputs": [
    {
     "data": {
      "text/plain": [
       "'We scale down our movements by the factor 0.0640021941110563.'"
      ]
     },
     "execution_count": 47,
     "metadata": {},
     "output_type": "execute_result"
    }
   ],
   "source": [
    "factor = 18/pixel_distance\n",
    "\"We scale down our movements by the factor \"+str(factor)+\".\""
   ]
  },
  {
   "cell_type": "code",
   "execution_count": 58,
   "metadata": {},
   "outputs": [
    {
     "data": {
      "text/plain": [
       "'There were always two pictures taken. The error that occurs just through the inaccuracy of the program and the movement of the camera is about 0.012mm.'"
      ]
     },
     "execution_count": 58,
     "metadata": {},
     "output_type": "execute_result"
    }
   ],
   "source": [
    "\"There were always two pictures taken. The error that occurs just through the inaccuracy of the program and the movement of the camera is about \"+str(round(final_dictionary[\"Movement1\"]*factor, 3))+\"mm.\""
   ]
  },
  {
   "cell_type": "code",
   "execution_count": 52,
   "metadata": {},
   "outputs": [
    {
     "name": "stdout",
     "output_type": "stream",
     "text": [
      "The laser point has moved 0.038mm in image 3.\n",
      "The laser point has moved 0.039mm in image 4.\n",
      "Remember there is a small inaccuracy caused by the program.\n"
     ]
    }
   ],
   "source": [
    "for i in range(2,N):\n",
    "    print(\"The laser point has moved \"+str(round((final_dictionary[\"Movement{0}\".format(i)])*factor,3))+\"mm in image \"+str(i+1)+\".\")\n",
    "          \n",
    "print(\"Remember there is a small inaccuracy caused by the program.\")"
   ]
  },
  {
   "cell_type": "code",
   "execution_count": 53,
   "metadata": {},
   "outputs": [
    {
     "name": "stdout",
     "output_type": "stream",
     "text": [
      "The distance between the laser point and the reference point is 2.854mm.\n",
      "The distance between the laser point and the reference point is 2.857mm.\n",
      "The distance between the laser point and the reference point is 2.851mm.\n",
      "The distance between the laser point and the reference point is 2.872mm.\n"
     ]
    }
   ],
   "source": [
    "for i in range(0,N):\n",
    "    print(\"The distance between the laser point and the reference point is \"+str(round(math.sqrt(distance_dictionary[\"Distances{0}\".format(i)][0]**2+distance_dictionary[\"Distances{0}\".format(i)][1])*factor,3))+\"mm.\")"
   ]
  },
  {
   "cell_type": "code",
   "execution_count": 54,
   "metadata": {},
   "outputs": [],
   "source": [
    "# printing out an example image\n",
    "keypoints = np.concatenate((keypoint_dictionary[\"Keypoints0\"], laserpoint_dictionary[\"Keypoints0\"]))"
   ]
  },
  {
   "cell_type": "code",
   "execution_count": 56,
   "metadata": {},
   "outputs": [
    {
     "data": {
      "text/plain": [
       "120"
      ]
     },
     "execution_count": 56,
     "metadata": {},
     "output_type": "execute_result"
    }
   ],
   "source": [
    "reversed_mask = 255-mask_dictionary[\"Mask0\"]\n",
    "\n",
    "cv2.namedWindow(\"output\", cv2.WINDOW_NORMAL)        # Create window with freedom of dimensions\n",
    "img_with_keypoints = cv2.drawKeypoints(reversed_mask, keypoints, None,color=(0,255,0), flags =cv2.DRAW_MATCHES_FLAGS_DRAW_RICH_KEYPOINTS)\n",
    "img_with_keypoints = cv2.resize(img_with_keypoints, (960, 540)) # Resize image\n",
    "\n",
    "# Show blobs\n",
    "cv2.imshow(\"Keypoints\", img_with_keypoints)\n",
    "cv2.waitKey(0)"
   ]
  },
  {
   "cell_type": "code",
   "execution_count": 57,
   "metadata": {},
   "outputs": [],
   "source": [
    "cv2.destroyAllWindows()"
   ]
  }
 ],
 "metadata": {
  "kernelspec": {
   "display_name": "Python 3",
   "language": "python",
   "name": "python3"
  },
  "language_info": {
   "codemirror_mode": {
    "name": "ipython",
    "version": 3
   },
   "file_extension": ".py",
   "mimetype": "text/x-python",
   "name": "python",
   "nbconvert_exporter": "python",
   "pygments_lexer": "ipython3",
   "version": "3.8.3"
  }
 },
 "nbformat": 4,
 "nbformat_minor": 4
}
