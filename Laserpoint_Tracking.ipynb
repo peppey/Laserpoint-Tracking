{
 "cells": [
  {
   "cell_type": "code",
   "execution_count": 7,
   "metadata": {},
   "outputs": [],
   "source": [
    "# Imports\n",
    "import cv2\n",
    "import numpy as np\n",
    "from matplotlib import pyplot as plt\n",
    "import math\n",
    "from scipy.spatial import distance\n",
    "\n",
    "\n",
    "# Read images\n",
    "im_dictionary = {}\n",
    "\n",
    "for i in range(0,4):\n",
    "    im_dictionary[\"Image{0}\".format(i)] = cv2.imread(\"Example_Pictures/IMG_\"+str(8383+i)+\".jpg\")"
   ]
  },
  {
   "cell_type": "code",
   "execution_count": 9,
   "metadata": {},
   "outputs": [],
   "source": [
    "# Detect background point\n",
    "\n",
    "# Lower and upper boundary for the colors of the \n",
    "# background point\n",
    "lower = (230,230,230)\n",
    "upper = (255,255,255)\n",
    "\n",
    "# All colors outside of the lower and upper boundary\n",
    "# will be deleted\n",
    "mask_dictionary = {}\n",
    "for i in range(0,4):\n",
    "    mask_dictionary[\"Mask{0}\".format(i)] =  cv2.dilate(cv2.inRange(im_dictionary[\"Image{0}\".format(i)], lower, upper), None, iterations=1)\n",
    "\n",
    "\n",
    "\n",
    "# Setup SimpleBlobDetector parameters\n",
    "params = cv2.SimpleBlobDetector_Params()\n",
    "\n",
    "\n",
    "# Change thresholds\n",
    "params.minThreshold = 0;\n",
    "params.maxThreshold = 24;\n",
    "\n",
    "# Delete detected blobs that are too small or too\n",
    "params.filterByArea = True\n",
    "params.minArea = 3500\n",
    "params.maxArea = 400000\n",
    "\n",
    "\n",
    "# Detect blobs.\n",
    "blob = cv2.SimpleBlobDetector_create(params)\n",
    "\n",
    "\n",
    "keypoint_dictionary = {}\n",
    "for i in range(0,4):\n",
    "    keypoint_dictionary[\"Keypoints{0}\".format(i)] = blob.detect(255-mask_dictionary[\"Mask{0}\".format(i)])"
   ]
  },
  {
   "cell_type": "code",
   "execution_count": 10,
   "metadata": {
    "scrolled": false
   },
   "outputs": [],
   "source": [
    "# Save the coordinates of the detected blobs/keypoints\n",
    "background_coordinates_dictionary = {}\n",
    "for i in range(0,4):\n",
    "    background_coordinates_dictionary[\"Coordinates{0}\".format(i)] =  [keypoint.pt for keypoint in keypoint_dictionary[\"Keypoints{0}\".format(i)]]"
   ]
  },
  {
   "cell_type": "code",
   "execution_count": 11,
   "metadata": {},
   "outputs": [],
   "source": [
    "# Detect the laserpoint\n",
    "lower = (190,110,130)\n",
    "upper = (255,255,255)\n",
    "\n",
    "mask_dictionary = {}\n",
    "for i in range(0,4):\n",
    "    mask_dictionary[\"Mask{0}\".format(i)] = cv2.dilate(cv2.inRange(im_dictionary[\"Image{0}\".format(i)], lower, upper), None, iterations=1)\n",
    "\n",
    "\n",
    "# Setup SimpleBlobDetector parameters\n",
    "params = cv2.SimpleBlobDetector_Params()\n",
    "\n",
    "\n",
    "# Change thresholds\n",
    "params.minThreshold = 0;\n",
    "params.maxThreshold = 24;\n",
    "\n",
    "\n",
    "# Delete detected blobs that are too small or\n",
    "# too large\n",
    "params.filterByArea = True\n",
    "params.minArea = 50\n",
    "params.maxArea = 40000\n",
    "\n",
    "# set the minimum convexity for the blobs (the default\n",
    "# value is higher)\n",
    "params.filterByConvexity = True\n",
    "params.minConvexity = 0.38\n",
    "\n",
    "\n",
    "# Detect blobs\n",
    "blob = cv2.SimpleBlobDetector_create(params)\n",
    "\n",
    "\n",
    "\n",
    "laserpoint_dictionary = {}\n",
    "for i in range(0,4):\n",
    "    laserpoint_dictionary[\"Keypoints{0}\".format(i)] = blob.detect(255-mask_dictionary[\"Mask{0}\".format(i)])\n"
   ]
  },
  {
   "cell_type": "code",
   "execution_count": 12,
   "metadata": {},
   "outputs": [],
   "source": [
    "# Save coordinates of the laserpoint\n",
    "laser_coordinates_dictionary = {}\n",
    "for i in range(0,4):\n",
    "    laser_coordinates_dictionary[\"Coordinates{0}\".format(i)] =  [keypoint.pt for keypoint in laserpoint_dictionary[\"Keypoints{0}\".format(i)]]"
   ]
  },
  {
   "cell_type": "code",
   "execution_count": 8,
   "metadata": {},
   "outputs": [
    {
     "name": "stdout",
     "output_type": "stream",
     "text": [
      "Images have a size of 3456 x 2304\n"
     ]
    }
   ],
   "source": [
    "width = len(mask_dictionary[\"Mask6\"][0])\n",
    "height = len(mask_dictionary[\"Mask6\"])\n",
    "\n",
    "print(\"Images have a size of \"+str(width)+\" x \"+str(height))"
   ]
  },
  {
   "cell_type": "code",
   "execution_count": 14,
   "metadata": {},
   "outputs": [
    {
     "data": {
      "text/plain": [
       "'The size of the background point is 40mm.'"
      ]
     },
     "execution_count": 14,
     "metadata": {},
     "output_type": "execute_result"
    }
   ],
   "source": [
    "\"The size of the background point is 40mm.\""
   ]
  },
  {
   "cell_type": "code",
   "execution_count": 17,
   "metadata": {},
   "outputs": [
    {
     "data": {
      "text/plain": [
       "'The size of the background point is 314 pixels on our image.'"
      ]
     },
     "execution_count": 17,
     "metadata": {},
     "output_type": "execute_result"
    }
   ],
   "source": [
    "\"The size of the background point is \"+str(round([keypoint.size for keypoint in keypoint_dictionary[\"Keypoints0\"]][0])\n",
    ")+\" pixels on our image.\""
   ]
  },
  {
   "cell_type": "code",
   "execution_count": 18,
   "metadata": {},
   "outputs": [
    {
     "data": {
      "text/plain": [
       "'We scale down our movements by the factor 0.12738853503184713.'"
      ]
     },
     "execution_count": 18,
     "metadata": {},
     "output_type": "execute_result"
    }
   ],
   "source": [
    "factor = 40/round([keypoint.size for keypoint in keypoint_dictionary[\"Keypoints0\"]][0])\n",
    "\"We scale down our movements by the factor \"+str(factor)+\".\""
   ]
  },
  {
   "cell_type": "code",
   "execution_count": 19,
   "metadata": {},
   "outputs": [],
   "source": [
    "# Calculate distance between the laserpoint and the background point in \n",
    "# each image\n",
    "distance_dictionary = {}\n",
    "\n",
    "for i in range(0,4):\n",
    "    distance_dictionary[\"Distances{0}\".format(i)] = [factor*(laser_coordinates_dictionary[\"Coordinates{0}\".format(i)][0][0]-background_coordinates_dictionary[\"Coordinates{0}\".format(i)][0][0]), factor*(laser_coordinates_dictionary[\"Coordinates{0}\".format(i)][0][1]-background_coordinates_dictionary[\"Coordinates{0}\".format(i)][0][1])]"
   ]
  },
  {
   "cell_type": "code",
   "execution_count": 20,
   "metadata": {},
   "outputs": [],
   "source": [
    "import math\n",
    "final_dictionary = {}\n",
    "\n",
    "# This dictionary contains the movement of the laserpoint between \n",
    "# two images\n",
    "# The movement (in mm) is calculated based on the changes in the\n",
    "# distance between the laserpoint and the background point\n",
    "for i in range(1,4):\n",
    "    if i != 7 and i != 8:\n",
    "        final_dictionary[\"Movement{0}\".format(i)] = [math.sqrt((distance_dictionary[\"Distances{0}\".format(i)][0]-distance_dictionary[\"Distances{0}\".format(i-1)][0])**2+(distance_dictionary[\"Distances{0}\".format(i)][1]-distance_dictionary[\"Distances{0}\".format(i-1)][1])**2)]"
   ]
  },
  {
   "cell_type": "code",
   "execution_count": 22,
   "metadata": {},
   "outputs": [],
   "source": [
    "# printing out an example mask with keypoints\n",
    "keypoints = np.concatenate((keypoint_dictionary[\"Keypoints0\"], laserpoint_dictionary[\"Keypoints0\"]))"
   ]
  },
  {
   "cell_type": "code",
   "execution_count": 23,
   "metadata": {},
   "outputs": [
    {
     "data": {
      "text/plain": [
       "3"
      ]
     },
     "execution_count": 23,
     "metadata": {},
     "output_type": "execute_result"
    }
   ],
   "source": [
    "# To interrupt this, press any key\n",
    "reversed_mask = 255-mask_dictionary[\"Mask0\"]\n",
    "\n",
    "cv2.namedWindow(\"output\", cv2.WINDOW_NORMAL)        # Create window with freedom of dimensions\n",
    "img_with_keypoints = cv2.drawKeypoints(reversed_mask, keypoints, None,color=(0,255,0), flags =cv2.DRAW_MATCHES_FLAGS_DRAW_RICH_KEYPOINTS)\n",
    "img_with_keypoints = cv2.resize(img_with_keypoints, (960, 540)) # Resize image\n",
    "\n",
    "# Show blobs\n",
    "cv2.imshow(\"Keypoints\", img_with_keypoints)\n",
    "cv2.waitKey(0)"
   ]
  },
  {
   "cell_type": "code",
   "execution_count": 24,
   "metadata": {},
   "outputs": [],
   "source": [
    "# Export movements to Excel\n",
    "import xlsxwriter\n",
    "\n",
    "workbook = xlsxwriter.Workbook('Laser_Movement.xlsx')\n",
    "worksheet = workbook.add_worksheet()\n",
    "\n",
    "\n",
    "row = 0\n",
    "\n",
    "for col, data in enumerate(final_dictionary.values()):\n",
    "    worksheet.write_column(0, col, data)\n",
    "\n",
    "workbook.close()"
   ]
  },
  {
   "cell_type": "code",
   "execution_count": null,
   "metadata": {},
   "outputs": [],
   "source": []
  }
 ],
 "metadata": {
  "kernelspec": {
   "display_name": "Python 3",
   "language": "python",
   "name": "python3"
  },
  "language_info": {
   "codemirror_mode": {
    "name": "ipython",
    "version": 3
   },
   "file_extension": ".py",
   "mimetype": "text/x-python",
   "name": "python",
   "nbconvert_exporter": "python",
   "pygments_lexer": "ipython3",
   "version": "3.8.3"
  }
 },
 "nbformat": 4,
 "nbformat_minor": 4
}
